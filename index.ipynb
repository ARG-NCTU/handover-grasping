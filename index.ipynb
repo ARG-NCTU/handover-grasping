{
 "cells": [
  {
   "cell_type": "code",
   "execution_count": 1,
   "metadata": {},
   "outputs": [],
   "source": [
    "#hide\n",
    "from handover_grasping.core import *"
   ]
  },
  {
   "cell_type": "markdown",
   "metadata": {},
   "source": [
    "# Handover Affordance Grasping\n",
    "\n",
    "> Summary description here."
   ]
  },
  {
   "cell_type": "markdown",
   "metadata": {},
   "source": [
    "This file will become your README and also the index of your documentation."
   ]
  },
  {
   "cell_type": "markdown",
   "metadata": {},
   "source": [
    "## Note for nbdev setup\n",
    "\n",
    "Jupyter Notebook Environment was setup in Anaconda.\n",
    "The Anaconda's default nbdev version is 0.2.40\n",
    "Make sure that you have the latest nbdev install\n",
    "```\n",
    "$ pip3 install -U nbdev\n",
    "```\n",
    "\n",
    "Also be careful about the settings.ini.\n",
    "* name of repo: no dashes. Use underscore, such as handover_grasping.\n",
    "* user = ARG-NCTU \n",
    "* repo_name = handover_grasping\n",
    "\n",
    "This will generate a setup.py that point to the repo: ARG-NCTU/handover_grasping for docs\n",
    "\n",
    "You should not modify README.md directly. Do it in index.ipynb\n",
    "\n",
    "Run nbdev_build_lib to convert *.ipynb to *.py\n",
    "```\n",
    "$ nbdev_build_lib\n",
    "```\n",
    "\n",
    "Run nbdev_build_docs to generate documentations in /docs\n",
    "```\n",
    "$ nbdev_build_docs\n",
    "```"
   ]
  },
  {
   "cell_type": "markdown",
   "metadata": {},
   "source": [
    "## How to use"
   ]
  },
  {
   "cell_type": "markdown",
   "metadata": {},
   "source": [
    "Run docker"
   ]
  },
  {
   "cell_type": "markdown",
   "metadata": {},
   "source": [
    "```\n",
    "$ source Docker/docker_run.sh\n",
    "```"
   ]
  },
  {
   "cell_type": "markdown",
   "metadata": {},
   "source": [
    "Install"
   ]
  },
  {
   "cell_type": "markdown",
   "metadata": {},
   "source": [
    "```\n",
    "$ source install.sh\n",
    "```"
   ]
  },
  {
   "cell_type": "markdown",
   "metadata": {},
   "source": [
    "Download HANet Datasets"
   ]
  },
  {
   "cell_type": "markdown",
   "metadata": {},
   "source": [
    "```\n",
    "$ source sample_datasets.sh\n",
    "```"
   ]
  },
  {
   "cell_type": "markdown",
   "metadata": {},
   "source": [
    "Run HANet inference"
   ]
  },
  {
   "cell_type": "markdown",
   "metadata": {},
   "source": [
    "```\n",
    "$ cd example\n",
    "$ python3 inference.py\n",
    "```"
   ]
  }
 ],
 "metadata": {
  "kernelspec": {
   "display_name": "Python 3",
   "language": "python",
   "name": "python3"
  },
  "language_info": {
   "codemirror_mode": {
    "name": "ipython",
    "version": 3
   },
   "file_extension": ".py",
   "mimetype": "text/x-python",
   "name": "python",
   "nbconvert_exporter": "python",
   "pygments_lexer": "ipython3",
   "version": "3.6.9"
  }
 },
 "nbformat": 4,
 "nbformat_minor": 2
}
