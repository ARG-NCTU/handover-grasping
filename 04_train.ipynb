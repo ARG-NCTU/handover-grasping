{
 "cells": [
  {
   "cell_type": "code",
   "execution_count": 1,
   "id": "103f1415",
   "metadata": {},
   "outputs": [
    {
     "name": "stdout",
     "output_type": "stream",
     "text": [
      "Jupyter environment detected. Enabling Open3D WebVisualizer.\n",
      "[Open3D INFO] WebRTC GUI backend enabled.\n",
      "[Open3D INFO] WebRTCWindowSystem: HTTP handshake server disabled.\n"
     ]
    }
   ],
   "source": [
    "import torch\n",
    "import torch.nn as nn\n",
    "import torch.optim as optim\n",
    "import time\n",
    "import os\n",
    "from torch.utils.data import  DataLoader\n",
    "from handover_grasping.model import HANet\n",
    "from handover_grasping.Datavisualizer import handover_grasping_dataset"
   ]
  },
  {
   "cell_type": "markdown",
   "id": "d5a8f840",
   "metadata": {},
   "source": [
    "DataLoader and parameters"
   ]
  },
  {
   "cell_type": "code",
   "execution_count": 3,
   "id": "306e14e9",
   "metadata": {},
   "outputs": [],
   "source": [
    "BATCH_SIZE = 5\n",
    "EPOCH = 50\n",
    "SAVE_EVERY = 25\n",
    "DATA_PATH = '/home/arg/handover_grasping/HANet_datasets'\n",
    "\n",
    "dataset = handover_grasping_dataset(DATA_PATH)\n",
    "dataloader = DataLoader(dataset, batch_size = BATCH_SIZE, shuffle = True, num_workers = 8)"
   ]
  },
  {
   "cell_type": "markdown",
   "id": "80c8b038",
   "metadata": {},
   "source": [
    "Initial HANet"
   ]
  },
  {
   "cell_type": "code",
   "execution_count": 2,
   "id": "f2869c98",
   "metadata": {},
   "outputs": [
    {
     "name": "stderr",
     "output_type": "stream",
     "text": [
      "Downloading: \"https://download.pytorch.org/models/resnet101-5d3b4d8f.pth\" to /home/arg/.cache/torch/checkpoints/resnet101-5d3b4d8f.pth\n"
     ]
    },
    {
     "data": {
      "application/vnd.jupyter.widget-view+json": {
       "model_id": "3c52d7b5400749beadc5ba44cab503f5",
       "version_major": 2,
       "version_minor": 0
      },
      "text/plain": [
       "  0%|          | 0.00/170M [00:00<?, ?B/s]"
      ]
     },
     "metadata": {},
     "output_type": "display_data"
    }
   ],
   "source": [
    "net = HANet(4)\n",
    "net = net.cuda()"
   ]
  },
  {
   "cell_type": "markdown",
   "id": "1a1a94e5",
   "metadata": {},
   "source": [
    "Loss function and optimizer"
   ]
  },
  {
   "cell_type": "code",
   "execution_count": 4,
   "id": "f2ff5efc",
   "metadata": {},
   "outputs": [],
   "source": [
    "criterion = nn.BCEWithLogitsLoss().cuda()\n",
    "\n",
    "optimizer = optim.Adam(net.parameters(), lr = 1e-3)\n",
    "scheduler = optim.lr_scheduler.StepLR(optimizer, step_size = 25, gamma = 0.1)"
   ]
  },
  {
   "cell_type": "markdown",
   "id": "83ce512f",
   "metadata": {},
   "source": [
    "Start Training"
   ]
  },
  {
   "cell_type": "code",
   "execution_count": 11,
   "id": "71262c77",
   "metadata": {},
   "outputs": [],
   "source": [
    "if os.path.isdir(DATA_PATH + '/weight') == False:\n",
    "    os.mkdir(DATA_PATH + '/weight')\n",
    "    \n",
    "loss_l = []\n",
    "for epoch in range(EPOCH):\n",
    "    loss_sum = 0.0\n",
    "    ts = time.time()\n",
    "    for i_batch, sampled_batched in enumerate(dataloader):\n",
    "        print(\"\\r[{:03.2f} %]\".format(i_batch/float(len(dataloader))*100.0), end=\"\\r\")\n",
    "        optimizer.zero_grad()\n",
    "        color = sampled_batched['color'].cuda()\n",
    "        depth = sampled_batched['depth'].cuda()\n",
    "        label = sampled_batched['label'].permute(0,2,3,1).cuda().float()\n",
    "        predict = net(color, depth)\n",
    "\n",
    "        loss = criterion(predict, label)\n",
    "\n",
    "        loss.backward()\n",
    "        loss_sum += loss.detach().cpu().numpy()\n",
    "        optimizer.step()\n",
    "    scheduler.step()\n",
    "    loss_l.append(loss_sum/len(dataloader))\n",
    "    if (epoch+1)%SAVE_EVERY==0:\n",
    "        torch.save(net.state_dict(), DATA_PATH + '/weight/grapnet_{}_{}.pth' .format(epoch+1, round(loss_l[-1],3)))\n",
    "\n",
    "    print(\"Epoch: {}| Loss: {}| Time elasped: {}\".format(epoch+1, loss_l[-1], time.time()-ts))"
   ]
  }
 ],
 "metadata": {
  "kernelspec": {
   "display_name": "Python 3",
   "language": "python",
   "name": "python3"
  },
  "language_info": {
   "codemirror_mode": {
    "name": "ipython",
    "version": 3
   },
   "file_extension": ".py",
   "mimetype": "text/x-python",
   "name": "python",
   "nbconvert_exporter": "python",
   "pygments_lexer": "ipython3",
   "version": "3.6.9"
  }
 },
 "nbformat": 4,
 "nbformat_minor": 5
}
