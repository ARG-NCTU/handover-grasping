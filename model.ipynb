{
 "cells": [
  {
   "cell_type": "code",
   "execution_count": null,
   "id": "659c8b0a",
   "metadata": {},
   "outputs": [],
   "source": [
    "# default_exp model"
   ]
  },
  {
   "cell_type": "code",
   "execution_count": null,
   "id": "df88ad82",
   "metadata": {},
   "outputs": [],
   "source": [
    "#hide\n",
    "from nbdev.showdoc import *"
   ]
  },
  {
   "cell_type": "code",
   "execution_count": null,
   "id": "7d2550af",
   "metadata": {},
   "outputs": [],
   "source": [
    "# export \n",
    "import torch\n",
    "import torch.nn as nn\n",
    "import torchvision\n",
    "import copy\n",
    "from handover_grasping.utils import get_model\n",
    "\n",
    "class HANet(nn.Module):\n",
    "    class FCN_model(nn.Module):\n",
    "        def __init__(self, n_classes=4):\n",
    "            super(HANet.FCN_model, self).__init__()\n",
    "            self.color_trunk = torchvision.models.resnet101(pretrained=True)\n",
    "            del self.color_trunk.fc, self.color_trunk.avgpool, self.color_trunk.layer4\n",
    "            self.depth_trunk = copy.deepcopy(self.color_trunk)\n",
    "            self.conv1 = nn.Conv2d(2048, 512, 1)\n",
    "            self.conv2 = nn.Conv2d(512, 128, 1)\n",
    "            self.conv3 = nn.Conv2d(128, n_classes, 1)\n",
    "        def forward(self, color, depth):\n",
    "            # Color\n",
    "            color_feat_1 = self.color_trunk.conv1(color) # 3 -> 64\n",
    "            color_feat_1 = self.color_trunk.bn1(color_feat_1)\n",
    "            color_feat_1 = self.color_trunk.relu(color_feat_1)\n",
    "            color_feat_1 = self.color_trunk.maxpool(color_feat_1) \n",
    "            color_feat_2 = self.color_trunk.layer1(color_feat_1) # 64 -> 256\n",
    "            color_feat_3 = self.color_trunk.layer2(color_feat_2) # 256 -> 512\n",
    "            color_feat_4 = self.color_trunk.layer3(color_feat_3) # 512 -> 1024\n",
    "            # Depth\n",
    "            depth_feat_1 = self.depth_trunk.conv1(depth) # 3 -> 64\n",
    "            depth_feat_1 = self.depth_trunk.bn1(depth_feat_1)\n",
    "            depth_feat_1 = self.depth_trunk.relu(depth_feat_1)\n",
    "            depth_feat_1 = self.depth_trunk.maxpool(depth_feat_1) \n",
    "            depth_feat_2 = self.depth_trunk.layer1(depth_feat_1) # 64 -> 256\n",
    "            depth_feat_3 = self.depth_trunk.layer2(depth_feat_2) # 256 -> 512\n",
    "            depth_feat_4 = self.depth_trunk.layer3(depth_feat_3) # 512 -> 1024\n",
    "            # Concatenate\n",
    "            feat = torch.cat([color_feat_4, depth_feat_4], dim=1) # 2048\n",
    "            feat_1 = self.conv1(feat)\n",
    "            feat_2 = self.conv2(feat_1)\n",
    "            feat_3 = self.conv3(feat_2)\n",
    "            return nn.Upsample(scale_factor=2, mode=\"bilinear\")(feat_3)\n",
    "        \n",
    "    def __init__(self, pretrained=False, n_class=4):\n",
    "        super(HANet, self).__init__()\n",
    "        if pretrained == True:\n",
    "            self.net = self.FCN_model(4)\n",
    "            model_path = get_model()\n",
    "            self.net.load_state_dict(torch.load(model_path))\n",
    "            print('Load pretrained complete')\n",
    "        else:\n",
    "            self.net = self.FCN_model(n_classes=n_class)\n",
    "            \n",
    "    def forward(self, Color, Depth):\n",
    "        output = self.net(Color, Depth)\n",
    "        \n",
    "        return output\n",
    "            "
   ]
  }
 ],
 "metadata": {
  "kernelspec": {
   "display_name": "Python 3",
   "language": "python",
   "name": "python3"
  },
  "language_info": {
   "codemirror_mode": {
    "name": "ipython",
    "version": 3
   },
   "file_extension": ".py",
   "mimetype": "text/x-python",
   "name": "python",
   "nbconvert_exporter": "python",
   "pygments_lexer": "ipython3",
   "version": "3.6.9"
  }
 },
 "nbformat": 4,
 "nbformat_minor": 5
}
