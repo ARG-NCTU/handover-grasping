{
 "cells": [
  {
   "cell_type": "markdown",
   "id": "35fbf2fc",
   "metadata": {},
   "source": [
    "# Federated Learning example\n",
    "\n",
    "### This notebook is reference by [Flower offical tutorial](https://flower.dev/docs/quickstart-pytorch.html).\n",
    "\n",
    "In this tutorial we will learn how to train a Convolutional Neural Network on CIFAR10 using Flower and PyTorch.\n",
    "\n",
    "Our example consists of one server and two clients all having the same model.\n",
    "\n",
    "You can use one PC to be the server and other multiple PC to be clients."
   ]
  },
  {
   "cell_type": "markdown",
   "id": "97430347",
   "metadata": {},
   "source": [
    "# Server\n",
    "\n",
    "### If current PC is to be server, run above cell to start server."
   ]
  },
  {
   "cell_type": "code",
   "execution_count": null,
   "id": "e0e4a08f",
   "metadata": {},
   "outputs": [],
   "source": [
    "from typing import List, Tuple\n",
    "\n",
    "import flwr as fl\n",
    "from flwr.common import Metrics"
   ]
  },
  {
   "cell_type": "markdown",
   "id": "97da5afb",
   "metadata": {},
   "source": [
    "### Define strategy"
   ]
  },
  {
   "cell_type": "code",
   "execution_count": null,
   "id": "03d0e4d7",
   "metadata": {},
   "outputs": [],
   "source": [
    "strategy = fl.server.strategy.FedAvg()"
   ]
  },
  {
   "cell_type": "markdown",
   "id": "6733e91f",
   "metadata": {},
   "source": [
    "### Server IP"
   ]
  },
  {
   "cell_type": "code",
   "execution_count": null,
   "id": "15ea93e3",
   "metadata": {},
   "outputs": [],
   "source": [
    "SERVER_IP = '140.113.148.106'"
   ]
  },
  {
   "cell_type": "markdown",
   "id": "6c0c5cad",
   "metadata": {},
   "source": [
    "### Start Flower server"
   ]
  },
  {
   "cell_type": "code",
   "execution_count": null,
   "id": "07ced223",
   "metadata": {},
   "outputs": [],
   "source": [
    "fl.server.start_server(\n",
    "    server_address=SERVER_IP+\":8080\",\n",
    "    config={\"num_rounds\": 3},\n",
    "    strategy=strategy,\n",
    ")"
   ]
  },
  {
   "cell_type": "markdown",
   "id": "b7916893",
   "metadata": {},
   "source": [
    "# Client\n",
    "\n",
    "### If current PC is to be client, run above cell to start client"
   ]
  },
  {
   "cell_type": "code",
   "execution_count": null,
   "id": "bc9752c9",
   "metadata": {},
   "outputs": [],
   "source": [
    "import warnings\n",
    "from collections import OrderedDict\n",
    "\n",
    "import flwr as fl\n",
    "import torch\n",
    "import torch.nn as nn\n",
    "import torch.nn.functional as F\n",
    "from torch.utils.data import DataLoader\n",
    "from torchvision.datasets import CIFAR10\n",
    "from torchvision.transforms import Compose, Normalize, ToTensor\n",
    "from tqdm import tqdm\n",
    "\n",
    "warnings.filterwarnings(\"ignore\", category=UserWarning)\n",
    "DEVICE = torch.device(\"cuda:0\" if torch.cuda.is_available() else \"cpu\")"
   ]
  },
  {
   "cell_type": "markdown",
   "id": "e3c5ab32",
   "metadata": {},
   "source": [
    "### Target Server IP"
   ]
  },
  {
   "cell_type": "code",
   "execution_count": null,
   "id": "e5e33631",
   "metadata": {},
   "outputs": [],
   "source": [
    "SERVER_IP = '140.113.1.106'"
   ]
  },
  {
   "cell_type": "markdown",
   "id": "bb8c229d",
   "metadata": {},
   "source": [
    "## Regular PyTorch pipeline: nn.Module, train, test, and DataLoader"
   ]
  },
  {
   "cell_type": "markdown",
   "id": "bc5acd13",
   "metadata": {},
   "source": [
    "### Sample Network"
   ]
  },
  {
   "cell_type": "code",
   "execution_count": null,
   "id": "517cd305",
   "metadata": {},
   "outputs": [],
   "source": [
    "class Net(nn.Module):\n",
    "    \"\"\"Model (simple CNN adapted from 'PyTorch: A 60 Minute Blitz')\"\"\"\n",
    "\n",
    "    def __init__(self) -> None:\n",
    "        super(Net, self).__init__()\n",
    "        self.conv1 = nn.Conv2d(3, 6, 5)\n",
    "        self.pool = nn.MaxPool2d(2, 2)\n",
    "        self.conv2 = nn.Conv2d(6, 16, 5)\n",
    "        self.fc1 = nn.Linear(16 * 5 * 5, 120)\n",
    "        self.fc2 = nn.Linear(120, 84)\n",
    "        self.fc3 = nn.Linear(84, 10)\n",
    "\n",
    "    def forward(self, x: torch.Tensor) -> torch.Tensor:\n",
    "        x = self.pool(F.relu(self.conv1(x)))\n",
    "        x = self.pool(F.relu(self.conv2(x)))\n",
    "        x = x.view(-1, 16 * 5 * 5)\n",
    "        x = F.relu(self.fc1(x))\n",
    "        x = F.relu(self.fc2(x))\n",
    "        return self.fc3(x)"
   ]
  },
  {
   "cell_type": "markdown",
   "id": "fbbd500a",
   "metadata": {},
   "source": [
    "### Training, Testing and dataloader function"
   ]
  },
  {
   "cell_type": "code",
   "execution_count": null,
   "id": "b64732e7",
   "metadata": {},
   "outputs": [],
   "source": [
    "def train(net, trainloader, epochs):\n",
    "    \"\"\"Train the model on the training set.\"\"\"\n",
    "    criterion = torch.nn.CrossEntropyLoss()\n",
    "    optimizer = torch.optim.SGD(net.parameters(), lr=0.001, momentum=0.9)\n",
    "    for _ in range(epochs):\n",
    "        for images, labels in tqdm(trainloader):\n",
    "            optimizer.zero_grad()\n",
    "            criterion(net(images.to(DEVICE)), labels.to(DEVICE)).backward()\n",
    "            optimizer.step()\n",
    "\n",
    "\n",
    "def test(net, testloader):\n",
    "    \"\"\"Validate the model on the test set.\"\"\"\n",
    "    criterion = torch.nn.CrossEntropyLoss()\n",
    "    correct, total, loss = 0, 0, 0.0\n",
    "    with torch.no_grad():\n",
    "        for images, labels in tqdm(testloader):\n",
    "            outputs = net(images.to(DEVICE))\n",
    "            labels = labels.to(DEVICE)\n",
    "            loss += criterion(outputs, labels).item()\n",
    "            total += labels.size(0)\n",
    "            correct += (torch.max(outputs.data, 1)[1] == labels).sum().item()\n",
    "    return loss / len(testloader.dataset), correct / total\n",
    "\n",
    "\n",
    "def load_data():\n",
    "    \"\"\"Load CIFAR-10 (training and test set).\"\"\"\n",
    "    trf = Compose([ToTensor(), Normalize((0.5, 0.5, 0.5), (0.5, 0.5, 0.5))])\n",
    "    trainset = CIFAR10(\"./data\", train=True, download=True, transform=trf)\n",
    "    testset = CIFAR10(\"./data\", train=False, download=True, transform=trf)\n",
    "    return DataLoader(trainset, batch_size=32, shuffle=True), DataLoader(testset)"
   ]
  },
  {
   "cell_type": "markdown",
   "id": "0d8a5fca",
   "metadata": {},
   "source": [
    "## Federation of the pipeline with Flower"
   ]
  },
  {
   "cell_type": "code",
   "execution_count": null,
   "id": "d2be250f",
   "metadata": {},
   "outputs": [],
   "source": [
    "net = Net().to(DEVICE)\n",
    "trainloader, testloader = load_data()"
   ]
  },
  {
   "cell_type": "markdown",
   "id": "27da61a4",
   "metadata": {},
   "source": [
    "### Define Flower client"
   ]
  },
  {
   "cell_type": "code",
   "execution_count": null,
   "id": "18b6bfa5",
   "metadata": {},
   "outputs": [],
   "source": [
    "class FlowerClient(fl.client.NumPyClient):\n",
    "    def get_parameters(self):\n",
    "        return [val.cpu().numpy() for _, val in net.state_dict().items()]\n",
    "\n",
    "    def set_parameters(self, parameters):\n",
    "        params_dict = zip(net.state_dict().keys(), parameters)\n",
    "        state_dict = OrderedDict({k: torch.tensor(v) for k, v in params_dict})\n",
    "        net.load_state_dict(state_dict, strict=True)\n",
    "\n",
    "    def fit(self, parameters, config):\n",
    "        self.set_parameters(parameters)\n",
    "        train(net, trainloader, epochs=1)\n",
    "        return self.get_parameters(), len(trainloader.dataset), {}\n",
    "\n",
    "    def evaluate(self, parameters, config):\n",
    "        self.set_parameters(parameters)\n",
    "        loss, accuracy = test(net, testloader)\n",
    "        return loss, len(testloader.dataset), {\"accuracy\": accuracy}"
   ]
  },
  {
   "cell_type": "markdown",
   "id": "71cde14e",
   "metadata": {},
   "source": [
    "### Start Flower client"
   ]
  },
  {
   "cell_type": "code",
   "execution_count": null,
   "id": "80970ef6",
   "metadata": {},
   "outputs": [],
   "source": [
    "fl.client.start_numpy_client(SERVER_IP+\":8080\", client=FlowerClient())"
   ]
  }
 ],
 "metadata": {
  "kernelspec": {
   "display_name": "Python 3",
   "language": "python",
   "name": "python3"
  },
  "language_info": {
   "codemirror_mode": {
    "name": "ipython",
    "version": 3
   },
   "file_extension": ".py",
   "mimetype": "text/x-python",
   "name": "python",
   "nbconvert_exporter": "python",
   "pygments_lexer": "ipython3",
   "version": "3.6.9"
  }
 },
 "nbformat": 4,
 "nbformat_minor": 5
}
