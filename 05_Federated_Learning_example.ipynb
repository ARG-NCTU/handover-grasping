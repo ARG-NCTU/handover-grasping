{
 "cells": [
  {
   "cell_type": "markdown",
   "id": "35fbf2fc",
   "metadata": {},
   "source": [
    "# Federated Learning example\n",
    "\n",
    "### This notebook is referenced by [Flower offical tutorial](https://flower.dev/docs/quickstart-pytorch.html).\n",
    "\n",
    "In this tutorial we will learn how to train a Convolutional Neural Network on CIFAR10 using Flower and PyTorch.\n",
    "\n",
    "Our example consists of one server and two clients all having the same model.\n",
    "\n",
    "You can use one PC to be the server and other multiple PC to be clients."
   ]
  },
  {
   "cell_type": "markdown",
   "id": "97430347",
   "metadata": {},
   "source": [
    "# Server\n",
    "\n",
    "### If current PC is to be server, run above cell to start server."
   ]
  },
  {
   "cell_type": "code",
   "execution_count": 1,
   "id": "e0e4a08f",
   "metadata": {},
   "outputs": [],
   "source": [
    "from typing import List, Tuple\n",
    "\n",
    "import flwr as fl\n",
    "from flwr.common import Metrics"
   ]
  },
  {
   "cell_type": "markdown",
   "id": "97da5afb",
   "metadata": {},
   "source": [
    "### Define strategy\n",
    "\n",
    "The strategy is to deal with model weight parameters delievered by clients, and the following example uses the averaging method."
   ]
  },
  {
   "cell_type": "code",
   "execution_count": 2,
   "id": "03d0e4d7",
   "metadata": {},
   "outputs": [],
   "source": [
    "strategy = fl.server.strategy.FedAvg()"
   ]
  },
  {
   "cell_type": "markdown",
   "id": "6733e91f",
   "metadata": {},
   "source": [
    "### Server's IP"
   ]
  },
  {
   "cell_type": "code",
   "execution_count": 3,
   "id": "15ea93e3",
   "metadata": {},
   "outputs": [],
   "source": [
    "SERVER_IP = 'your_own_IP'"
   ]
  },
  {
   "cell_type": "markdown",
   "id": "6c0c5cad",
   "metadata": {},
   "source": [
    "### Start Flower server"
   ]
  },
  {
   "cell_type": "code",
   "execution_count": 4,
   "id": "07ced223",
   "metadata": {},
   "outputs": [
    {
     "name": "stderr",
     "output_type": "stream",
     "text": [
      "INFO flower 2022-07-12 17:13:01,169 | app.py:109 | Flower server running (3 rounds)\n",
      "SSL is disabled\n",
      "INFO flower 2022-07-12 17:13:01,171 | server.py:128 | Initializing global parameters\n",
      "INFO flower 2022-07-12 17:13:01,172 | server.py:327 | Requesting initial parameters from one random client\n",
      "INFO flower 2022-07-12 17:14:20,528 | server.py:330 | Received initial parameters from one random client\n",
      "INFO flower 2022-07-12 17:14:20,531 | server.py:130 | Evaluating initial parameters\n",
      "INFO flower 2022-07-12 17:14:20,534 | server.py:143 | FL starting\n",
      "DEBUG flower 2022-07-12 17:14:22,650 | server.py:269 | fit_round: strategy sampled 2 clients (out of 2)\n",
      "DEBUG flower 2022-07-12 17:14:30,809 | server.py:281 | fit_round received 2 results and 0 failures\n",
      "DEBUG flower 2022-07-12 17:14:30,840 | server.py:215 | evaluate_round: strategy sampled 2 clients (out of 2)\n",
      "DEBUG flower 2022-07-12 17:14:36,786 | server.py:227 | evaluate_round received 2 results and 0 failures\n",
      "DEBUG flower 2022-07-12 17:14:36,789 | server.py:269 | fit_round: strategy sampled 2 clients (out of 2)\n",
      "DEBUG flower 2022-07-12 17:14:44,955 | server.py:281 | fit_round received 2 results and 0 failures\n",
      "DEBUG flower 2022-07-12 17:14:44,962 | server.py:215 | evaluate_round: strategy sampled 2 clients (out of 2)\n",
      "DEBUG flower 2022-07-12 17:14:50,841 | server.py:227 | evaluate_round received 2 results and 0 failures\n",
      "DEBUG flower 2022-07-12 17:14:50,844 | server.py:269 | fit_round: strategy sampled 2 clients (out of 2)\n",
      "DEBUG flower 2022-07-12 17:14:58,983 | server.py:281 | fit_round received 2 results and 0 failures\n",
      "DEBUG flower 2022-07-12 17:14:59,010 | server.py:215 | evaluate_round: strategy sampled 2 clients (out of 2)\n",
      "DEBUG flower 2022-07-12 17:15:04,966 | server.py:227 | evaluate_round received 2 results and 0 failures\n",
      "INFO flower 2022-07-12 17:15:04,969 | server.py:182 | FL finished in 44.43258005100506\n",
      "INFO flower 2022-07-12 17:15:04,973 | app.py:149 | app_fit: losses_distributed [(1, 2.069756031036377), (2, 1.668516755104065), (3, 1.5030343532562256)]\n",
      "INFO flower 2022-07-12 17:15:04,976 | app.py:150 | app_fit: metrics_distributed {}\n",
      "INFO flower 2022-07-12 17:15:04,978 | app.py:151 | app_fit: losses_centralized []\n",
      "INFO flower 2022-07-12 17:15:04,978 | app.py:152 | app_fit: metrics_centralized {}\n"
     ]
    },
    {
     "data": {
      "text/plain": [
       "History (loss, distributed):\n",
       "\tround 1: 2.069756031036377\n",
       "\tround 2: 1.668516755104065\n",
       "\tround 3: 1.5030343532562256"
      ]
     },
     "execution_count": 4,
     "metadata": {},
     "output_type": "execute_result"
    }
   ],
   "source": [
    "fl.server.start_server(\n",
    "    server_address=SERVER_IP+\":8080\",\n",
    "    config={\"num_rounds\": 3},\n",
    "    strategy=strategy,\n",
    ")"
   ]
  },
  {
   "cell_type": "markdown",
   "id": "b7916893",
   "metadata": {},
   "source": [
    "# Client\n",
    "\n",
    "### If current PC is to be client, run above cell to start client"
   ]
  },
  {
   "cell_type": "code",
   "execution_count": 1,
   "id": "bc9752c9",
   "metadata": {},
   "outputs": [],
   "source": [
    "import warnings\n",
    "from collections import OrderedDict\n",
    "\n",
    "import flwr as fl\n",
    "import torch\n",
    "import torch.nn as nn\n",
    "import torch.nn.functional as F\n",
    "from torch.utils.data import DataLoader\n",
    "from torchvision.datasets import CIFAR10\n",
    "from torchvision.transforms import Compose, Normalize, ToTensor\n",
    "from tqdm import tqdm\n",
    "\n",
    "warnings.filterwarnings(\"ignore\", category=UserWarning)\n",
    "DEVICE = torch.device(\"cuda:0\" if torch.cuda.is_available() else \"cpu\")"
   ]
  },
  {
   "cell_type": "markdown",
   "id": "e3c5ab32",
   "metadata": {},
   "source": [
    "### Target Server's IP"
   ]
  },
  {
   "cell_type": "code",
   "execution_count": 2,
   "id": "e5e33631",
   "metadata": {},
   "outputs": [],
   "source": [
    "TARGET_SERVER_IP = 'your_own_IP'"
   ]
  },
  {
   "cell_type": "markdown",
   "id": "bb8c229d",
   "metadata": {},
   "source": [
    "## Regular PyTorch pipeline: nn.Module, train, test, and DataLoader"
   ]
  },
  {
   "cell_type": "markdown",
   "id": "bc5acd13",
   "metadata": {},
   "source": [
    "### Sample Network\n",
    "\n",
    "This is a simple image classification CNN."
   ]
  },
  {
   "cell_type": "code",
   "execution_count": 3,
   "id": "517cd305",
   "metadata": {},
   "outputs": [],
   "source": [
    "class Net(nn.Module):\n",
    "    \"\"\"Model (simple CNN adapted from 'PyTorch: A 60 Minute Blitz')\"\"\"\n",
    "\n",
    "    def __init__(self) -> None:\n",
    "        super(Net, self).__init__()\n",
    "        self.conv1 = nn.Conv2d(3, 6, 5)\n",
    "        self.pool = nn.MaxPool2d(2, 2)\n",
    "        self.conv2 = nn.Conv2d(6, 16, 5)\n",
    "        self.fc1 = nn.Linear(16 * 5 * 5, 120)\n",
    "        self.fc2 = nn.Linear(120, 84)\n",
    "        self.fc3 = nn.Linear(84, 10)\n",
    "\n",
    "    def forward(self, x: torch.Tensor) -> torch.Tensor:\n",
    "        x = self.pool(F.relu(self.conv1(x)))\n",
    "        x = self.pool(F.relu(self.conv2(x)))\n",
    "        x = x.view(-1, 16 * 5 * 5)\n",
    "        x = F.relu(self.fc1(x))\n",
    "        x = F.relu(self.fc2(x))\n",
    "        return self.fc3(x)"
   ]
  },
  {
   "cell_type": "markdown",
   "id": "fbbd500a",
   "metadata": {},
   "source": [
    "### Training, Testing and dataloader function"
   ]
  },
  {
   "cell_type": "code",
   "execution_count": 4,
   "id": "b64732e7",
   "metadata": {},
   "outputs": [],
   "source": [
    "def train(net, trainloader, epochs):\n",
    "    \"\"\"Train the model on the training set.\"\"\"\n",
    "    criterion = torch.nn.CrossEntropyLoss()\n",
    "    optimizer = torch.optim.SGD(net.parameters(), lr=0.001, momentum=0.9)\n",
    "    for _ in range(epochs):\n",
    "        for images, labels in tqdm(trainloader):\n",
    "            optimizer.zero_grad()\n",
    "            criterion(net(images.to(DEVICE)), labels.to(DEVICE)).backward()\n",
    "            optimizer.step()\n",
    "\n",
    "\n",
    "def test(net, testloader):\n",
    "    \"\"\"Validate the model on the test set.\"\"\"\n",
    "    criterion = torch.nn.CrossEntropyLoss()\n",
    "    correct, total, loss = 0, 0, 0.0\n",
    "    with torch.no_grad():\n",
    "        for images, labels in tqdm(testloader):\n",
    "            outputs = net(images.to(DEVICE))\n",
    "            labels = labels.to(DEVICE)\n",
    "            loss += criterion(outputs, labels).item()\n",
    "            total += labels.size(0)\n",
    "            correct += (torch.max(outputs.data, 1)[1] == labels).sum().item()\n",
    "    return loss / len(testloader.dataset), correct / total\n",
    "\n",
    "\n",
    "def load_data():\n",
    "    \"\"\"Load CIFAR-10 (training and test set).\"\"\"\n",
    "    trf = Compose([ToTensor(), Normalize((0.5, 0.5, 0.5), (0.5, 0.5, 0.5))])\n",
    "    trainset = CIFAR10(\"./data\", train=True, download=True, transform=trf)\n",
    "    testset = CIFAR10(\"./data\", train=False, download=True, transform=trf)\n",
    "    return DataLoader(trainset, batch_size=32, shuffle=True), DataLoader(testset)"
   ]
  },
  {
   "cell_type": "markdown",
   "id": "0d8a5fca",
   "metadata": {},
   "source": [
    "## Federation of the pipeline with Flower"
   ]
  },
  {
   "cell_type": "code",
   "execution_count": 5,
   "id": "d2be250f",
   "metadata": {},
   "outputs": [
    {
     "name": "stdout",
     "output_type": "stream",
     "text": [
      "Files already downloaded and verified\n",
      "Files already downloaded and verified\n"
     ]
    }
   ],
   "source": [
    "net = Net().to(DEVICE)\n",
    "trainloader, testloader = load_data()"
   ]
  },
  {
   "cell_type": "markdown",
   "id": "27da61a4",
   "metadata": {},
   "source": [
    "### Define Flower client\n",
    "\n",
    "#### get_parameters\n",
    "\n",
    "1. return the model weight as a list of NumPy ndarrays\n",
    "\n",
    "#### set_parameters\n",
    "\n",
    "1. update the local model weights with the parameters received from the server\n",
    "\n",
    "#### fit\n",
    "\n",
    "1. set the local model weights\n",
    "2. train the local model\n",
    "3. receive the updated local model weights\n",
    "\n",
    "#### evaluate\n",
    "1. test the local model"
   ]
  },
  {
   "cell_type": "code",
   "execution_count": 6,
   "id": "18b6bfa5",
   "metadata": {},
   "outputs": [],
   "source": [
    "class FlowerClient(fl.client.NumPyClient):\n",
    "    def get_parameters(self):\n",
    "        return [val.cpu().numpy() for _, val in net.state_dict().items()]\n",
    "\n",
    "    def set_parameters(self, parameters):\n",
    "        params_dict = zip(net.state_dict().keys(), parameters)\n",
    "        state_dict = OrderedDict({k: torch.tensor(v) for k, v in params_dict})\n",
    "        net.load_state_dict(state_dict, strict=True)\n",
    "\n",
    "    def fit(self, parameters, config):\n",
    "        self.set_parameters(parameters)\n",
    "        train(net, trainloader, epochs=1)\n",
    "        return self.get_parameters(), len(trainloader.dataset), {}\n",
    "\n",
    "    def evaluate(self, parameters, config):\n",
    "        self.set_parameters(parameters)\n",
    "        loss, accuracy = test(net, testloader)\n",
    "        return loss, len(testloader.dataset), {\"accuracy\": accuracy}"
   ]
  },
  {
   "cell_type": "markdown",
   "id": "71cde14e",
   "metadata": {},
   "source": [
    "### Start Flower client"
   ]
  },
  {
   "cell_type": "code",
   "execution_count": 7,
   "id": "80970ef6",
   "metadata": {},
   "outputs": [
    {
     "name": "stderr",
     "output_type": "stream",
     "text": [
      "INFO flower 2022-07-12 17:18:12,639 | connection.py:102 | Opened insecure gRPC connection (no certificates were passed)\n",
      "DEBUG flower 2022-07-12 17:18:12,643 | connection.py:39 | ChannelConnectivity.IDLE\n",
      "DEBUG flower 2022-07-12 17:18:12,646 | connection.py:39 | ChannelConnectivity.READY\n",
      "100%|██████████| 1563/1563 [00:10<00:00, 154.38it/s]\n",
      "100%|██████████| 10000/10000 [00:07<00:00, 1365.73it/s]\n",
      "100%|██████████| 1563/1563 [00:09<00:00, 157.43it/s]\n",
      "100%|██████████| 10000/10000 [00:07<00:00, 1266.81it/s]\n",
      "100%|██████████| 1563/1563 [00:09<00:00, 157.21it/s]\n",
      "100%|██████████| 10000/10000 [00:07<00:00, 1329.18it/s]\n",
      "DEBUG flower 2022-07-12 17:19:10,270 | connection.py:121 | gRPC channel closed\n",
      "INFO flower 2022-07-12 17:19:10,271 | app.py:101 | Disconnect and shut down\n"
     ]
    }
   ],
   "source": [
    "fl.client.start_numpy_client(TARGET_SERVER_IP+\":8080\", client=FlowerClient())"
   ]
  }
 ],
 "metadata": {
  "kernelspec": {
   "display_name": "Python 3",
   "language": "python",
   "name": "python3"
  },
  "language_info": {
   "codemirror_mode": {
    "name": "ipython",
    "version": 3
   },
   "file_extension": ".py",
   "mimetype": "text/x-python",
   "name": "python",
   "nbconvert_exporter": "python",
   "pygments_lexer": "ipython3",
   "version": "3.6.9"
  }
 },
 "nbformat": 4,
 "nbformat_minor": 5
}
