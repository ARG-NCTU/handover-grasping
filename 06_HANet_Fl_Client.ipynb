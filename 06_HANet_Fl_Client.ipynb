{
 "cells": [
  {
   "cell_type": "code",
   "execution_count": null,
   "id": "6e5387fc",
   "metadata": {},
   "outputs": [],
   "source": [
    "from handover_grasping import HANet\n",
    "import warnings\n",
    "from collections import OrderedDict\n",
    "\n",
    "import flwr as fl\n",
    "import torch\n",
    "import torch.nn as nn\n",
    "import torch.nn.functional as F\n",
    "from torch.utils.data import DataLoader\n",
    "from torchvision.datasets import CIFAR10\n",
    "from torchvision.transforms import Compose, Normalize, ToTensor\n",
    "from tqdm import tqdm\n",
    "\n",
    "warnings.filterwarnings(\"ignore\", category=UserWarning)"
   ]
  },
  {
   "cell_type": "code",
   "execution_count": null,
   "id": "ffb6ddb2",
   "metadata": {},
   "outputs": [],
   "source": [
    "def train(net, trainloader, epochs):\n",
    "    \"\"\"Train the model on the training set.\"\"\"\n",
    "    criterion = torch.nn.BCEWithLogitsLoss()\n",
    "    optimizer = torch.optim.Adam(net.parameters(), lr = 1e-3)\n",
    "    for _ in range(epochs):\n",
    "        for i_batch, sampled_batched in enumerate(trainloader):\n",
    "            optimizer.zero_grad()\n",
    "            color = sampled_batched['color'].cuda()\n",
    "            depth = sampled_batched['depth'].cuda()\n",
    "            label = sampled_batched['label'].permute(0,2,3,1).cuda().float()\n",
    "            criterion(net(color, depth), label).backward()\n",
    "            optimizer.step()\n",
    "\n",
    "\n",
    "def test(net, testloader):\n",
    "    \"\"\"Validate the model on the test set.\"\"\"\n",
    "    criterion = torch.nn.BCEWithLogitsLoss()\n",
    "    correct, total, loss = 0, 0, 0.0\n",
    "    with torch.no_grad():\n",
    "        for i_batch, sampled_batched in enumerate(testloader):\n",
    "            color = sampled_batched['color'].cuda()\n",
    "            depth = sampled_batched['depth'].cuda()\n",
    "            labels = sampled_batched['label'].permute(0,2,3,1).cuda().float()\n",
    "            \n",
    "            outputs = net(color, depth)\n",
    "            loss += criterion(outputs, labels).item()\n",
    "            \n",
    "    return loss / len(testloader.dataset)\n",
    "\n",
    "\n",
    "def load_data():\n",
    "    DATA_PATH = '/home/arg/handover_grasping/data/HANet_training_datasets'\n",
    "\n",
    "    dataset_train = handover_grasping_dataset(DATA_PATH, color_type='png')\n",
    "    dataset_test = handover_grasping_dataset(DATA_PATH, color_type='png', mode='fl_test')\n",
    "\n",
    "    return DataLoader(dataset_train, batch_size = 8, shuffle = True, num_workers = 8), DataLoader(dataset_test, batch_size = 1, shuffle = False, num_workers = 8)"
   ]
  },
  {
   "cell_type": "code",
   "execution_count": null,
   "id": "17eca3ca",
   "metadata": {},
   "outputs": [],
   "source": [
    "net = HANet(4)\n",
    "net = net.cuda()\n",
    "trainloader, testloader = load_data()"
   ]
  },
  {
   "cell_type": "code",
   "execution_count": null,
   "id": "45e2332b",
   "metadata": {},
   "outputs": [],
   "source": [
    "class FlowerClient(fl.client.NumPyClient):\n",
    "    def get_parameters(self):\n",
    "        return [val.cpu().numpy() for _, val in net.state_dict().items()]\n",
    "\n",
    "    def set_parameters(self, parameters):\n",
    "        params_dict = zip(net.state_dict().keys(), parameters)\n",
    "        state_dict = OrderedDict({k: torch.tensor(v) for k, v in params_dict})\n",
    "        net.load_state_dict(state_dict, strict=True)\n",
    "\n",
    "    def fit(self, parameters, config):\n",
    "        self.set_parameters(parameters)\n",
    "        train(net, trainloader, epochs=1)\n",
    "        return self.get_parameters(), len(trainloader.dataset), {}\n",
    "\n",
    "    def evaluate(self, parameters, config):\n",
    "        self.set_parameters(parameters)\n",
    "        loss = test(net, testloader)\n",
    "        return 0.0, 0.0"
   ]
  },
  {
   "cell_type": "code",
   "execution_count": null,
   "id": "f19a1a87",
   "metadata": {},
   "outputs": [],
   "source": [
    "TARGET_SERVER_IP = 'your_own_IP'"
   ]
  },
  {
   "cell_type": "code",
   "execution_count": null,
   "id": "b01a9e66",
   "metadata": {},
   "outputs": [],
   "source": [
    "fl.client.start_numpy_client(TARGET_SERVER_IP+\":8080\", client=FlowerClient())"
   ]
  }
 ],
 "metadata": {
  "kernelspec": {
   "display_name": "Python 3 (ipykernel)",
   "language": "python",
   "name": "python3"
  },
  "language_info": {
   "codemirror_mode": {
    "name": "ipython",
    "version": 3
   },
   "file_extension": ".py",
   "mimetype": "text/x-python",
   "name": "python",
   "nbconvert_exporter": "python",
   "pygments_lexer": "ipython3",
   "version": "3.6.9"
  }
 },
 "nbformat": 4,
 "nbformat_minor": 5
}
