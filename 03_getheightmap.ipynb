{
 "cells": [
  {
   "cell_type": "code",
   "execution_count": 23,
   "id": "41fec466",
   "metadata": {},
   "outputs": [],
   "source": [
    "# default_exp getheightmap"
   ]
  },
  {
   "cell_type": "code",
   "execution_count": 21,
   "id": "d99f2632",
   "metadata": {},
   "outputs": [],
   "source": [
    "#hide\n",
    "from nbdev.showdoc import *"
   ]
  },
  {
   "cell_type": "code",
   "execution_count": 142,
   "id": "c5cc07d3",
   "metadata": {},
   "outputs": [],
   "source": [
    "# export \n",
    "import cv2\n",
    "import numpy as np\n",
    "import imageio\n",
    "\n",
    "def bwareaopen(image, sz):\n",
    "    output = image.copy()\n",
    "    nlabels, labels, stats, centroids = cv2.connectedComponentsWithStats(image)\n",
    "    for i in range(1,nlabels-1):\n",
    "        regions_size = stats[i,4]\n",
    "        if regions_size < sz:\n",
    "            x0 = stats[i,0]\n",
    "            y0 = stats[i,1]\n",
    "            x1 = stats[i,0]+stats[i,2]\n",
    "            y1 = stats[i,1]+stats[i,3]\n",
    "            for row in range(y0, y1):\n",
    "                for col in range(x0, x1):\n",
    "                    if labels[row, col] == i:\n",
    "                        output[row, col] = 0\n",
    "\n",
    "    return output\n",
    "\n",
    "def bg_subtraction(colorIMg, bgColorImg, depthImg, bgDepthImg):\n",
    "    tmp = abs(colorIMg - bgColorImg)\n",
    "    tmp[tmp<0.3] == 1\n",
    "\n",
    "    fgMaskColor = np.sum(tmp,2)\n",
    "    fgMaskColor[fgMaskColor!=3] = 1\n",
    "    fgMaskColor[fgMaskColor==3] = 0\n",
    "\n",
    "    tmp = abs(depthImg-bgDepthImg)\n",
    "    tmp[tmp>0.02] = 1\n",
    "    tmp[tmp!=1] = 0\n",
    "\n",
    "    bgDepthImg[bgDepthImg!=0] = 1\n",
    "\n",
    "    fgMaskDepth = np.zeros(bgDepthImg.shape)\n",
    "    fgMaskDepth[((tmp == 1) & (bgDepthImg == 1))] = 1\n",
    "\n",
    "    fgMask = np.ones(bgDepthImg.shape)\n",
    "    fgMask[((fgMaskDepth == 0) & (fgMaskColor == 0))] = 0\n",
    "\n",
    "    return fgMaskColor, fgMask\n",
    "\n",
    "def project_depth2camera(camIntrinsics, camPose, depthImg):\n",
    "    xvalues = np.linspace(1,640,640)\n",
    "    yvalues = np.linspace(1,480,480)\n",
    "    pixX,pixY = np.meshgrid(xvalues, yvalues)\n",
    "\n",
    "    camX = (pixX - camIntrinsics[0][2])*(depthImg/camIntrinsics[0][0])\n",
    "    camY = (pixY - camIntrinsics[1][2])*(depthImg/camIntrinsics[1][1])\n",
    "    camZ = depthImg\n",
    "    camPts = np.array([camX.flatten('F').transpose(),camY.flatten('F').transpose(), camZ.flatten('F').transpose()])\n",
    "    camPts = camPts.transpose()\n",
    "\n",
    "    return camPts\n",
    "\n",
    "def points2world(camPose, camPts):\n",
    "    g = np.expand_dims(camPose[0:3,3], axis=1)\n",
    "    tmp = np.repeat(g,307200, axis=1).transpose()\n",
    "    tmp2 = np.dot(camPose[0:3,0:3], camPts.transpose()).transpose()\n",
    "    worldPts = tmp2 + tmp\n",
    "\n",
    "    return worldPts\n",
    "\n",
    "def getgridmapping(worldPts, binMiddleBottom):\n",
    "    voxelSize = 0.002\n",
    "    gridOrigin = [binMiddleBottom[0][0]-0.3,binMiddleBottom[0][1]-0.2,binMiddleBottom[0][2]]\n",
    "    gridMapping_1 = np.around((worldPts[:,0] - gridOrigin[0])/voxelSize)\n",
    "    gridMapping_2 = np.around((worldPts[:,1] - gridOrigin[1])/voxelSize)\n",
    "    gridMapping_3 = (worldPts[:,2] - binMiddleBottom[0][2])\n",
    "    gridMapping = np.array([gridMapping_1, gridMapping_2, gridMapping_3]).transpose()\n",
    "\n",
    "    return gridMapping\n",
    "\n",
    "def getheightmapColor(gridMapping, colorIMg):\n",
    "    heightMap = np.zeros((200,300))\n",
    "    heightMapColor = np.zeros((200*300,3))\n",
    "\n",
    "    Tmp0 = np.zeros(gridMapping[:,0].shape)\n",
    "    Tmp0[gridMapping[:,0]>0] = 1\n",
    "\n",
    "    Tmp1 = np.zeros(gridMapping[:,0].shape)\n",
    "    Tmp1[gridMapping[:,0]<= 300] = 1\n",
    "\n",
    "    Tmp2 = np.zeros(gridMapping[:,1].shape)\n",
    "    Tmp2[gridMapping[:,1] > 0] = 1\n",
    "\n",
    "    Tmp3 = np.zeros(gridMapping[:,1].shape)\n",
    "    Tmp3[gridMapping[:,1]<=200] = 1\n",
    "\n",
    "    colorPts = np.array([colorIMg[:,:,0].flatten('F'), colorIMg[:,:,1].flatten('F'), colorIMg[:,:,2].flatten('F')]).transpose()\n",
    "    validPix = np.zeros(gridMapping[:,0].shape)\n",
    "\n",
    "    tmp = []\n",
    "    tmp2 = []\n",
    "    tmp3 = [[],[],[]]\n",
    "\n",
    "    for i in range(validPix.shape[0]):\n",
    "        if Tmp0[i] == 1 and Tmp1[i] == 1 and Tmp2[i] == 1 and Tmp3[i] == 1:\n",
    "            validPix[i] = 1\n",
    "            tmp.append(int(gridMapping[i,1])-1)\n",
    "            tmp2.append(int(gridMapping[i,0])-1)\n",
    "            tmp3[0].append(colorPts[i,0])\n",
    "            tmp3[1].append(colorPts[i,1])\n",
    "            tmp3[2].append(colorPts[i,2])\n",
    "\n",
    "    tmp = np.array(tmp)\n",
    "    tmp2 = np.array(tmp2)\n",
    "    arr = np.array([tmp, tmp2])\n",
    "    s = np.ravel_multi_index(arr, (200,300), order='F')\n",
    "    tmp3 = np.array(tmp3).transpose()\n",
    "\n",
    "    for i in range(s.shape[0]):\n",
    "        heightMapColor[s[i], :] = tmp3[i,:]\n",
    "\n",
    "    return heightMapColor\n",
    "\n",
    "def heightmapwithbgsubtraction(gridMapping, fgMask, depthImg):\n",
    "    heightMap = np.zeros((200,300))\n",
    "    tmp0 = np.zeros(gridMapping[:,0].shape)\n",
    "    tmp0[gridMapping[:,0]>0] = 1\n",
    "\n",
    "    tmp1 = np.zeros(gridMapping[:,0].shape)\n",
    "    tmp1[gridMapping[:,0]<=300] = 1\n",
    "\n",
    "    tmp2 = np.zeros(gridMapping[:,1].shape)\n",
    "    tmp2[gridMapping[:,1]>0] = 1\n",
    "\n",
    "    tmp3 = np.zeros(gridMapping[:,1].shape)\n",
    "    tmp3[gridMapping[:,1]<=200] = 1\n",
    "\n",
    "    tmp4 = np.zeros(gridMapping[:,2].shape)\n",
    "    tmp4[gridMapping[:,2]>0] = 1\n",
    "\n",
    "    validPix = np.zeros(gridMapping[:,0].shape)\n",
    "    validPix[((tmp0 == 1) & (tmp1 == 1) & (tmp2 == 1) & (tmp3 == 1) & (tmp4 == 1))] = 1\n",
    "\n",
    "    validDepth = np.zeros(fgMask.shape)\n",
    "    validDepth[((fgMask != 0) & (depthImg != 0))] = 1\n",
    "\n",
    "    tmp = validDepth.flatten('F')\n",
    "    tmp3 = [[],[],[]]\n",
    "    for i in range(validPix.shape[0]):\n",
    "        if validPix[i] != 0 and tmp[i]!= 0:\n",
    "            tmp3[0].append(gridMapping[i,0])\n",
    "            tmp3[1].append(gridMapping[i,1])\n",
    "            tmp3[2].append(gridMapping[i,2])\n",
    "    gridMapping = np.array(tmp3).transpose()\n",
    "\n",
    "    tmp = []\n",
    "    tmp2 = []\n",
    "    for i in range(gridMapping.shape[0]):\n",
    "        tmp.append(int(gridMapping[i,1])-1)\n",
    "        tmp2.append(int(gridMapping[i,0])-1)\n",
    "\n",
    "    tmp = np.array(tmp)\n",
    "    tmp2 = np.array(tmp2)\n",
    "    arr = np.array([tmp, tmp2])\n",
    "    s = np.ravel_multi_index(arr, (200,300), order='F')\n",
    "    tmp3 = []\n",
    "    for i in range(gridMapping[:,2].shape[0]):\n",
    "        tmp3.append(gridMapping[:,2][i])\n",
    "\n",
    "    for i in range(s.shape[0]):\n",
    "        coord = np.unravel_index(s[i], (200,300), order='F')\n",
    "        heightMap[coord[0],coord[1]] = tmp3[i]\n",
    "\n",
    "    return heightMap\n",
    "\n",
    "def FixMissingDepth2camera(depthImg, bgDepthImg, camIntrinsics, camPose):\n",
    "    missingDepth = np.zeros(depthImg.shape)\n",
    "    missingDepth[((depthImg) == 0 & (bgDepthImg > 0))] = 1\n",
    "\n",
    "    xvalues = np.linspace(1,640,640)\n",
    "    yvalues = np.linspace(1,480,480)\n",
    "    pixX,pixY = np.meshgrid(xvalues, yvalues)\n",
    "\n",
    "    camX = (pixX - camIntrinsics[0][2])*(bgDepthImg/camIntrinsics[0][0])\n",
    "    camY = (pixY - camIntrinsics[1][2])*(bgDepthImg/camIntrinsics[1][1])\n",
    "    camZ = bgDepthImg\n",
    "\n",
    "    tmp = [[],[],[]]\n",
    "    for i in range(missingDepth.shape[1]):\n",
    "        for j in range(missingDepth.shape[0]):\n",
    "            if missingDepth[j, i] == 1:\n",
    "                tmp[0].append(camX[j, i])\n",
    "                tmp[1].append(camY[j, i])\n",
    "                tmp[2].append(camZ[j, i])\n",
    "\n",
    "    missingCamPts = np.array(tmp).transpose()\n",
    "\n",
    "    g = np.expand_dims(camPose[0:3,3], axis=1)\n",
    "    tmp = np.repeat(g,missingCamPts.shape[0], axis=1).transpose()\n",
    "    tmp2 = np.dot(camPose[0:3,0:3], missingCamPts.transpose()).transpose()\n",
    "    missingCamPtsworldPts = tmp2 + tmp\n",
    "\n",
    "    return missingDepth, missingCamPts, missingCamPtsworldPts\n",
    "\n",
    "def getMissingdepthheightmap(binMiddleBottom, missingCamPtsworldPts):\n",
    "    voxelSize = 0.002\n",
    "    missingHeightMap = np.zeros((200,300))\n",
    "    gridOrigin = [binMiddleBottom[0][0]-0.3,binMiddleBottom[0][1]-0.2,binMiddleBottom[0][2]]\n",
    "    gridMapping_1 = np.around((missingCamPtsworldPts[:,0] - gridOrigin[0])/voxelSize)\n",
    "    gridMapping_2 = np.around((missingCamPtsworldPts[:,1] - gridOrigin[1])/voxelSize)\n",
    "    gridMapping_3 = (missingCamPtsworldPts[:,2] - binMiddleBottom[0][2])\n",
    "    gridMapping = np.array([gridMapping_1, gridMapping_2, gridMapping_3]).transpose()\n",
    "\n",
    "    tmp0 = np.zeros(gridMapping[:,0].shape)\n",
    "    for i in range(tmp0.shape[0]):\n",
    "        if gridMapping[i,0] > 0:\n",
    "            tmp0[i] = 1\n",
    "\n",
    "    tmp1 = np.zeros(gridMapping[:,0].shape)\n",
    "    for i in range(tmp1.shape[0]):\n",
    "        if gridMapping[i,0] <= 300:\n",
    "            tmp1[i] = 1\n",
    "\n",
    "    tmp2 = np.zeros(gridMapping[:,1].shape)\n",
    "    for i in range(tmp2.shape[0]):\n",
    "        if gridMapping[i,1] > 0:\n",
    "            tmp2[i] = 1\n",
    "\n",
    "    tmp3 = np.zeros(gridMapping[:,1].shape)\n",
    "    for i in range(tmp3.shape[0]):\n",
    "        if gridMapping[i,1] <=200:\n",
    "            tmp3[i] = 1\n",
    "\n",
    "    tmp = [[],[],[]]\n",
    "    validPix = np.zeros(gridMapping[:,0].shape)\n",
    "    for i in range(validPix.shape[0]):\n",
    "        if tmp0[i] == 1 and tmp1[i] == 1 and tmp2[i] == 1 and tmp3[i] == 1:\n",
    "            validPix[i] = 1\n",
    "            tmp[0].append(gridMapping[i,0])\n",
    "            tmp[1].append(gridMapping[i,1])\n",
    "            tmp[2].append(gridMapping[i,2])\n",
    "\n",
    "    gridMapping = np.array(tmp).transpose()\n",
    "\n",
    "    tmp = []\n",
    "    tmp2 = []\n",
    "    for i in range(gridMapping.shape[0]):\n",
    "        tmp.append(int(gridMapping[i,1])-1)\n",
    "        tmp2.append(int(gridMapping[i,0])-1)\n",
    "\n",
    "    tmp = np.array(tmp)\n",
    "    tmp2 = np.array(tmp2)\n",
    "    arr = np.array([tmp, tmp2])\n",
    "    s = np.ravel_multi_index(arr, (200,300), order='F')\n",
    "    tmp3 = []\n",
    "    for i in range(gridMapping[:,2].shape[0]):\n",
    "        tmp3.append(gridMapping[:,2][i])\n",
    "\n",
    "    for i in range(s.shape[0]):\n",
    "        coord = np.unravel_index(s[i], (200,300), order='F')\n",
    "        missingHeightMap[coord[0],coord[1]] = 1\n",
    "\n",
    "\n",
    "    missingHeightMap = missingHeightMap.astype('uint8')\n",
    "    g = np.zeros(missingHeightMap.shape).astype('uint8')\n",
    "    g[missingHeightMap > 0] = 1\n",
    "    tmp = bwareaopen(g, 50)\n",
    "    L = np.ones(missingHeightMap.shape).astype('uint8')\n",
    "    noisePix = L - tmp\n",
    "    missingHeightMap[noisePix==1] = 0\n",
    "\n",
    "    return missingHeightMap, noisePix\n",
    "\n",
    "def denoiseheightmap(heightMap, noisePix):\n",
    "    heightMap = heightMap.astype('uint8')\n",
    "    g = np.zeros(heightMap.shape).astype('uint8')\n",
    "    g[heightMap > 0] = 1\n",
    "    tmp = bwareaopen(g, 50)\n",
    "    L = np.ones(heightMap.shape).astype('uint8')\n",
    "    noisePix = L - tmp\n",
    "    heightMap[noisePix==1] = 0\n",
    "\n",
    "    return heightMap"
   ]
  },
  {
   "cell_type": "markdown",
   "id": "03e870e3",
   "metadata": {},
   "source": [
    "Load data"
   ]
  },
  {
   "cell_type": "code",
   "execution_count": 57,
   "id": "86809fb9",
   "metadata": {},
   "outputs": [],
   "source": [
    "path = '/home/arg/handover_grasping/sample'\n",
    "ColorIMg = cv2.imread(path+'/color-input/000000-0.png')/255.0\n",
    "ColorIMg = ColorIMg[:,:,[2,1,0]]\n",
    "DepthImg = imageio.imread(path+'/depth-input/000000-0.png')/10000.0\n",
    "BgColorImg = cv2.imread(path+'/color-background/000000-0.png')/255.0\n",
    "BgColorImg = BgColorImg[:,:,[2,1,0]]\n",
    "BgDepthImg = imageio.imread(path+'/depth-background/000000-0.png')/10000.0\n",
    "CamIntrinsics = np.loadtxt(path+'/camera-intrinsics/000000-0.txt')\n",
    "\n",
    "CamPose = np.loadtxt(path+'/camera-pose/000000-0.txt')\n",
    "BinMiddleBottom = np.loadtxt(path+'/bin-position.txt')\n",
    "BinMiddleBottom = np.expand_dims(BinMiddleBottom, axis=0)"
   ]
  },
  {
   "cell_type": "code",
   "execution_count": 58,
   "id": "4cabdf6d",
   "metadata": {},
   "outputs": [],
   "source": [
    "import time"
   ]
  },
  {
   "cell_type": "markdown",
   "id": "6f762f52",
   "metadata": {},
   "source": [
    "Do background subtraction"
   ]
  },
  {
   "cell_type": "code",
   "execution_count": 134,
   "id": "e254d464",
   "metadata": {},
   "outputs": [
    {
     "name": "stdout",
     "output_type": "stream",
     "text": [
      "0.020553112030029297\n"
     ]
    }
   ],
   "source": [
    "s = time.time()\n",
    "FgMaskColor, FgMask = bg_subtraction(ColorIMg, BgColorImg, DepthImg, BgDepthImg)\n",
    "print(time.time()-s)"
   ]
  },
  {
   "cell_type": "markdown",
   "id": "d580ac82",
   "metadata": {},
   "source": [
    "Project depth into camera space"
   ]
  },
  {
   "cell_type": "code",
   "execution_count": 45,
   "id": "a2b479dd",
   "metadata": {},
   "outputs": [
    {
     "name": "stdout",
     "output_type": "stream",
     "text": [
      "0.014075279235839844\n"
     ]
    }
   ],
   "source": [
    "s = time.time()\n",
    "CamPts = project_depth2camera(CamIntrinsics, CamPose, DepthImg)\n",
    "print(time.time()-s)"
   ]
  },
  {
   "cell_type": "markdown",
   "id": "af4b6d0c",
   "metadata": {},
   "source": [
    "Transform points to world coordinates"
   ]
  },
  {
   "cell_type": "code",
   "execution_count": 46,
   "id": "3ee42500",
   "metadata": {},
   "outputs": [
    {
     "name": "stdout",
     "output_type": "stream",
     "text": [
      "0.014129638671875\n"
     ]
    }
   ],
   "source": [
    "s = time.time()\n",
    "WorldPts = points2world(CamPose, CamPts)\n",
    "print(time.time()-s)"
   ]
  },
  {
   "cell_type": "markdown",
   "id": "98d36e08",
   "metadata": {},
   "source": [
    "Get height map"
   ]
  },
  {
   "cell_type": "code",
   "execution_count": 47,
   "id": "75aa95d4",
   "metadata": {},
   "outputs": [
    {
     "name": "stdout",
     "output_type": "stream",
     "text": [
      "0.004257678985595703\n"
     ]
    }
   ],
   "source": [
    "s = time.time()\n",
    "GridMapping = getgridmapping(WorldPts, BinMiddleBottom)\n",
    "print(time.time()-s)"
   ]
  },
  {
   "cell_type": "markdown",
   "id": "79445641",
   "metadata": {},
   "source": [
    "Compute height map color"
   ]
  },
  {
   "cell_type": "code",
   "execution_count": 136,
   "id": "794a7cef",
   "metadata": {},
   "outputs": [
    {
     "name": "stdout",
     "output_type": "stream",
     "text": [
      "0.8493330478668213\n"
     ]
    }
   ],
   "source": [
    "s = time.time()\n",
    "HeightMapColor = getheightmapColor(GridMapping, ColorIMg)\n",
    "print(time.time()-s)"
   ]
  },
  {
   "cell_type": "markdown",
   "id": "8c8ddb6b",
   "metadata": {},
   "source": [
    "Compute real height map with background subtraction"
   ]
  },
  {
   "cell_type": "code",
   "execution_count": 137,
   "id": "3e48230a",
   "metadata": {},
   "outputs": [
    {
     "name": "stdout",
     "output_type": "stream",
     "text": [
      "0.8525211811065674\n"
     ]
    }
   ],
   "source": [
    "s = time.time()\n",
    "HeightMap = heightmapwithbgsubtraction(GridMapping, FgMask, DepthImg)\n",
    "print(time.time()-s)"
   ]
  },
  {
   "cell_type": "markdown",
   "id": "310f4c5a",
   "metadata": {},
   "source": [
    "Find missing depth and project background depth into camera space"
   ]
  },
  {
   "cell_type": "code",
   "execution_count": 143,
   "id": "474b6d81",
   "metadata": {},
   "outputs": [
    {
     "name": "stdout",
     "output_type": "stream",
     "text": [
      "0.1672658920288086\n"
     ]
    }
   ],
   "source": [
    "s = time.time()\n",
    "MissingDepth, MissingCamPts, MissingCamPtsworldPts = FixMissingDepth2camera(DepthImg, BgDepthImg, CamIntrinsics, CamPose)\n",
    "print(time.time()-s)"
   ]
  },
  {
   "cell_type": "markdown",
   "id": "127d9143",
   "metadata": {},
   "source": [
    "Get missing depth height map"
   ]
  },
  {
   "cell_type": "code",
   "execution_count": 138,
   "id": "25df62a7",
   "metadata": {},
   "outputs": [
    {
     "name": "stdout",
     "output_type": "stream",
     "text": [
      "0.04289674758911133\n"
     ]
    }
   ],
   "source": [
    "s = time.time()\n",
    "MissingHeightMap, NoisePix = getMissingdepthheightmap(BinMiddleBottom, MissingCamPtsworldPts)\n",
    "print(time.time()-s)"
   ]
  },
  {
   "cell_type": "markdown",
   "id": "e596bfe9",
   "metadata": {},
   "source": [
    "Denoise height map"
   ]
  },
  {
   "cell_type": "code",
   "execution_count": 129,
   "id": "8cd2cb3e",
   "metadata": {},
   "outputs": [
    {
     "name": "stdout",
     "output_type": "stream",
     "text": [
      "0.009256601333618164\n"
     ]
    }
   ],
   "source": [
    "s = time.time()\n",
    "HeightMap = denoiseheightmap(HeightMap, NoisePix)\n",
    "print(time.time()-s)"
   ]
  },
  {
   "cell_type": "markdown",
   "id": "2dc43372",
   "metadata": {},
   "source": [
    "Save result"
   ]
  },
  {
   "cell_type": "code",
   "execution_count": 130,
   "id": "095a9175",
   "metadata": {},
   "outputs": [],
   "source": [
    "HeightMapColor = np.reshape(HeightMapColor, (200,300,3), order='F')\n",
    "colorData = np.zeros((224,320,3))\n",
    "colorData[12:212,10:310,:] = HeightMapColor[:,:,[2,1,0]]\n",
    "colorData = colorData*255"
   ]
  },
  {
   "cell_type": "code",
   "execution_count": 131,
   "id": "f077ddd7",
   "metadata": {},
   "outputs": [
    {
     "data": {
      "text/plain": [
       "True"
      ]
     },
     "execution_count": 131,
     "metadata": {},
     "output_type": "execute_result"
    }
   ],
   "source": [
    "cv2.imwrite(path+'/heightmap_color.png', colorData)"
   ]
  },
  {
   "cell_type": "code",
   "execution_count": 17,
   "id": "d1e1502c",
   "metadata": {},
   "outputs": [],
   "source": [
    "HeightMap[HeightMap>0.3] = 0.3\n",
    "rawHeightMap = HeightMap"
   ]
  },
  {
   "cell_type": "code",
   "execution_count": 18,
   "id": "1df4918d",
   "metadata": {},
   "outputs": [],
   "source": [
    "depthData = np.zeros((224,320)).astype('uint16')\n",
    "depthData[12:212,10:310] = rawHeightMap*10000"
   ]
  },
  {
   "cell_type": "code",
   "execution_count": 19,
   "id": "863598ac",
   "metadata": {},
   "outputs": [
    {
     "data": {
      "text/plain": [
       "True"
      ]
     },
     "execution_count": 19,
     "metadata": {},
     "output_type": "execute_result"
    }
   ],
   "source": [
    "cv2.imwrite(path+'/heightmap_depth.png', depthData)"
   ]
  }
 ],
 "metadata": {
  "kernelspec": {
   "display_name": "Python 3",
   "language": "python",
   "name": "python3"
  },
  "language_info": {
   "codemirror_mode": {
    "name": "ipython",
    "version": 3
   },
   "file_extension": ".py",
   "mimetype": "text/x-python",
   "name": "python",
   "nbconvert_exporter": "python",
   "pygments_lexer": "ipython3",
   "version": "3.6.9"
  }
 },
 "nbformat": 4,
 "nbformat_minor": 5
}
